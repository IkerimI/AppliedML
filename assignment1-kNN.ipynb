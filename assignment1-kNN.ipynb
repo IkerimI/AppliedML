{
 "cells": [
  {
   "cell_type": "markdown",
   "id": "bb57ec9d",
   "metadata": {
    "deletable": false,
    "editable": false,
    "nbgrader": {
     "cell_type": "markdown",
     "checksum": "c5a067b34b42c1a4c59223aa95cf24a7",
     "grade": false,
     "grade_id": "cell-1616321e65790064",
     "locked": true,
     "schema_version": 3,
     "solution": false,
     "task": false
    }
   },
   "source": [
    "\n",
    "<div class=\"alert alert-success alertsuccess\" style=\"margin-top: 20px\">\n",
    "[Tip]: To execute the Python code in the code cell below, click on the cell to select it and press <kbd>Shift</kbd> + <kbd>Enter</kbd>.\n",
    "</div>\n"
   ]
  },
  {
   "cell_type": "markdown",
   "id": "3301b093",
   "metadata": {
    "deletable": false,
    "editable": false,
    "nbgrader": {
     "cell_type": "markdown",
     "checksum": "f2ecb4c01349aa6563de20b93026d169",
     "grade": false,
     "grade_id": "cell-19a3c6306e53621f",
     "locked": true,
     "schema_version": 3,
     "solution": false,
     "task": false
    }
   },
   "source": [
    "# Exercise 1: Nearest Neighbor Classifier for Handwritten Digit Recognition \n",
    "\n",
    "## Due Date: Thursday, 16.11.23, 11 am, via Moodle\n",
    "\n",
    "In this notebook we will build a classifier that takes an image of a handwritten digit and outputs a label $y \\in \\{0-9\\}$. We will look at a particularly simple strategy for this problem, known as the **nearest neighbor classifier**.\n",
    "\n",
    "To run this notebook you should have the following Python packages installed:\n",
    "* `numpy`\n",
    "* `matplotlib`\n",
    "* `sklearn`\n",
    "* `joblib`\n",
    "* `ipywidgets`\n",
    "\n",
    "**The notebook contains 10 tasks for you to solve.**\n",
    "\n",
    "*The MNIST dataset*\n",
    "1. Task: Compute the number of images per class of MNIST\n",
    "\n",
    "*Implement the Nearest Neighbor Classifier in Python*\n",
    "\n",
    "2. Task: Implement the Euclidean distance ($L_2$-distance)\n",
    "3. Task: Implement 1-Nearest-Neighbor\n",
    "4. Task: Implement 1-nearest-neighbor classification\n",
    "\n",
    "*Error Analysis*\n",
    "\n",
    "5. Task: Error Analysis\n",
    "6. Task: Report the test error\n",
    "7. Task: Report the train error\n",
    "8. Task: Explain the train error \n",
    "\n",
    "*Using Scikit-Learn and Hyperparameter Optimization*\n",
    "\n",
    "9. Task: Optimize hyper-parameter $k$ using cross-validation\n",
    "10. Task: Optimize hyper-parameters $k$ and $p$ using grid-search\n",
    "\n",
    "**Solving a task gives one point. You must obtain 50% of the points over all exercises to pass.**\n",
    "\n",
    "## Submission \n",
    "\n",
    "Hand in this assignment via Moodle."
   ]
  },
  {
   "cell_type": "markdown",
   "id": "0880fb1a",
   "metadata": {
    "deletable": false,
    "editable": false,
    "nbgrader": {
     "cell_type": "markdown",
     "checksum": "ea94477ebfd4e2f72fd66ca67948b4fe",
     "grade": false,
     "grade_id": "cell-b74d6c4ed43733cb",
     "locked": true,
     "schema_version": 3,
     "solution": false,
     "task": false
    }
   },
   "source": [
    "### We will first check if the required packages are installed"
   ]
  },
  {
   "cell_type": "code",
   "execution_count": 102,
   "id": "fdcafd9f",
   "metadata": {},
   "outputs": [],
   "source": [
    "# uncomment the below lines, if needed\n",
    "import sys\n",
    "# !{sys.executable} -m pip install sklearn\n",
    "# !{sys.executable} -m pip install ipywidgets\n",
    "# !{sys.executable} -m pip install joblib"
   ]
  },
  {
   "cell_type": "code",
   "execution_count": 103,
   "id": "519bc2f1",
   "metadata": {
    "deletable": false,
    "editable": false,
    "nbgrader": {
     "cell_type": "code",
     "checksum": "01257cd31c05c7ceae27534c5b5226ef",
     "grade": false,
     "grade_id": "cell-e99af5a5292dab8c",
     "locked": true,
     "schema_version": 3,
     "solution": false,
     "task": false
    }
   },
   "outputs": [
    {
     "name": "stdout",
     "output_type": "stream",
     "text": [
      "1.2.1\n",
      "7.6.5\n",
      "1.1.1\n"
     ]
    }
   ],
   "source": [
    "import sklearn\n",
    "print(sklearn.__version__)\n",
    "\n",
    "import ipywidgets as widgets\n",
    "print(widgets.__version__)\n",
    "\n",
    "import joblib\n",
    "print(joblib.__version__)"
   ]
  },
  {
   "cell_type": "markdown",
   "id": "painted-suite",
   "metadata": {
    "deletable": false,
    "editable": false,
    "nbgrader": {
     "cell_type": "markdown",
     "checksum": "1dc0e8ab11f9b3074b6e0091e8f47252",
     "grade": false,
     "grade_id": "cell-f969b8b770f69e4c",
     "locked": true,
     "schema_version": 3,
     "solution": false,
     "task": false
    }
   },
   "source": [
    "If this gives an error, we might have to install the missing package first. See above."
   ]
  },
  {
   "cell_type": "markdown",
   "id": "0d384a76",
   "metadata": {
    "deletable": false,
    "editable": false,
    "nbgrader": {
     "cell_type": "markdown",
     "checksum": "db31b45132d1ca20d14b82b02d73da02",
     "grade": false,
     "grade_id": "cell-d64b8b25b9d54d51",
     "locked": true,
     "schema_version": 3,
     "solution": false,
     "task": false
    }
   },
   "source": [
    "\n",
    "## The MNIST dataset\n",
    "We have seen `MNIST`  in the lecture. It is a classic dataset used in machine learning, consisting of 28x28 gray-scale images handwritten digits. The original training set contains 60,000 samples and the test set contains 10,000 samples. \n",
    "\n",
    "In this notebook we will be working with a subset of this data: a training set of **7,500** samples and a test set of **1,000** samples."
   ]
  },
  {
   "cell_type": "code",
   "execution_count": 104,
   "id": "12f4d3c2",
   "metadata": {
    "deletable": false,
    "editable": false,
    "nbgrader": {
     "cell_type": "code",
     "checksum": "7cf09e0a4f811db031bb85d5bcce82df",
     "grade": false,
     "grade_id": "cell-e06333c064ea4736",
     "locked": true,
     "schema_version": 3,
     "solution": false,
     "task": false
    }
   },
   "outputs": [],
   "source": [
    "import numpy as np\n",
    "%matplotlib inline\n",
    "import matplotlib.pyplot as plt \n",
    "from numpy.testing import assert_almost_equal\n",
    "\n",
    "import time\n",
    "import requests\n",
    "import io\n",
    "\n",
    "def load_remote(URL):\n",
    "    response = requests.get(URL)\n",
    "    response.raise_for_status()\n",
    "    return np.load(io.BytesIO(response.content))\n",
    "\n",
    "def load_data(local):\n",
    "    ## Load the training and testing set \n",
    "    # use these, if you want to work locally\n",
    "    if local:\n",
    "        train_data = np.load('MNIST/train_data.npy')\n",
    "        train_labels = np.load('MNIST/train_labels.npy')\n",
    "        test_data = np.load('MNIST/test_data.npy')\n",
    "        test_labels = np.load('MNIST/test_labels.npy')\n",
    "\n",
    "    ## Load the training and testing set from remote \n",
    "    ## Usefull for JupyterHub or Colab-Development\n",
    "    if not local:\n",
    "        test_data = load_remote(\"https://box.hu-berlin.de/f/8db2251a109a4037af20/?dl=1\")\n",
    "        train_data = load_remote(\"https://box.hu-berlin.de/f/2d95919ae6784be1b905/?dl=1\")\n",
    "        train_labels = load_remote(\"https://box.hu-berlin.de/f/4124ffe96274489793ca/?dl=1\")\n",
    "        test_labels = load_remote(\"https://box.hu-berlin.de/f/f1b7154075d8480aaa8d/?dl=1\")\n",
    "        \n",
    "    return train_data, train_labels, test_data, test_labels\n",
    "\n",
    "train_data, train_labels, test_data, test_labels = load_data(False)"
   ]
  },
  {
   "cell_type": "code",
   "execution_count": 105,
   "id": "8fc7b3c6",
   "metadata": {
    "deletable": false,
    "editable": false,
    "nbgrader": {
     "cell_type": "code",
     "checksum": "d7526cdcf1eaf8facf2343f77a707d91",
     "grade": false,
     "grade_id": "cell-45b886b4ac521482",
     "locked": true,
     "schema_version": 3,
     "solution": false,
     "task": false
    }
   },
   "outputs": [
    {
     "name": "stdout",
     "output_type": "stream",
     "text": [
      "Training dataset dimensions:\t (7500, 784)\n",
      "Number of training labels:\t 7500\n",
      "Testing dataset dimensions:\t (1000, 784)\n",
      "Number of testing labels:\t 1000\n"
     ]
    }
   ],
   "source": [
    "## Print out the dimensions\n",
    "print(f\"Training dataset dimensions:\\t {train_data.shape}\")\n",
    "print(f\"Number of training labels:\\t {train_labels.shape[0]}\")\n",
    "print(f\"Testing dataset dimensions:\\t {test_data.shape}\")\n",
    "print(f\"Number of testing labels:\\t {test_labels.shape[0]}\")"
   ]
  },
  {
   "cell_type": "markdown",
   "id": "b746cd50",
   "metadata": {
    "deletable": false,
    "editable": false,
    "nbgrader": {
     "cell_type": "markdown",
     "checksum": "bcdb3d6b95605da45e319c55e79bd98c",
     "grade": false,
     "grade_id": "cell-463c107f95c49481",
     "locked": true,
     "schema_version": 3,
     "solution": false,
     "task": false
    }
   },
   "source": [
    "### Task 1: Compute the number of images per class of MNIST\n",
    "\n",
    "<div class=\"alert alert-success alertsuccess\" style=\"margin-top: 20px\">\n",
    "\n",
    "Your first task is to return a dictionary that counts the number of images for each class. E.g. {0: 750, 1: 750, 2: 750, 3: ...}\n",
    "\n",
    "Implement the following method\n",
    "\n",
    "```python\n",
    "def imagesPerClass(x):\n",
    "\n",
    "```\n",
    "\n",
    "that returns a **dictionary** of counts.\n",
    "\n",
    "</div>\n",
    "\n",
    "*Hint: Useful utility methods are ```np.unique() from numpy ``` or ```Counter() from collections```.*"
   ]
  },
  {
   "cell_type": "code",
   "execution_count": 106,
   "id": "8bc76987",
   "metadata": {
    "deletable": false,
    "nbgrader": {
     "cell_type": "code",
     "checksum": "8c2401d3fe8d787114a5995f52e4d5c1",
     "grade": false,
     "grade_id": "cell-2b9d5b1514a38b63",
     "locked": false,
     "schema_version": 3,
     "solution": true,
     "task": false
    }
   },
   "outputs": [],
   "source": [
    "def imagesPerClass(labels):\n",
    "    # YOUR CODE HERE\n",
    "    dic = {0:0, 1:0, 2:0, 3:0, 4:0, 5:0, 6:0, 7:0, 8:0, 9:0}\n",
    "    for label in labels:\n",
    "        dic[label] = dic[label] + 1\n",
    "    return dic"
   ]
  },
  {
   "cell_type": "code",
   "execution_count": 107,
   "id": "a481f3bc",
   "metadata": {
    "deletable": false,
    "editable": false,
    "nbgrader": {
     "cell_type": "code",
     "checksum": "ca27921e494656b0d335f0ad47aa28f8",
     "grade": true,
     "grade_id": "cell-1db3624d37dc7768",
     "locked": true,
     "points": 1,
     "schema_version": 3,
     "solution": false,
     "task": false
    }
   },
   "outputs": [
    {
     "name": "stdout",
     "output_type": "stream",
     "text": [
      "Images per Class:\n",
      "{0: 750, 1: 750, 2: 750, 3: 750, 4: 750, 5: 750, 6: 750, 7: 750, 8: 750, 9: 750}\n"
     ]
    }
   ],
   "source": [
    "img_per_class = imagesPerClass(train_labels)\n",
    "\n",
    "print (\"Images per Class:\")\n",
    "print (img_per_class)\n",
    "\n",
    "## Check that your method returns a dictionary\n",
    "assert type(img_per_class) == dict\n",
    "\n",
    "## Check that your dictionary has 10 entries\n",
    "assert len(img_per_class) == 10\n"
   ]
  },
  {
   "cell_type": "markdown",
   "id": "6f9ebffb",
   "metadata": {
    "deletable": false,
    "editable": false,
    "nbgrader": {
     "cell_type": "markdown",
     "checksum": "fd46cde8f4114a10dbcde185616507bf",
     "grade": false,
     "grade_id": "cell-29e1f65c959aeba7",
     "locked": true,
     "schema_version": 3,
     "solution": false,
     "task": false
    }
   },
   "source": [
    "## Visualizing the data\n",
    "Each digit is stored as 784-dimensional vector. To visualize a digit, we first reshape it to a 28x28 image."
   ]
  },
  {
   "cell_type": "code",
   "execution_count": 108,
   "id": "1765b2c4",
   "metadata": {
    "deletable": false,
    "editable": false,
    "nbgrader": {
     "cell_type": "code",
     "checksum": "49bcbc7a34fb7fe3610af84e79606012",
     "grade": false,
     "grade_id": "cell-6c7bc3f4a507b3a1",
     "locked": true,
     "schema_version": 3,
     "solution": false,
     "task": false
    }
   },
   "outputs": [
    {
     "data": {
      "application/vnd.jupyter.widget-view+json": {
       "model_id": "74fdc81a51384ae18359b8549313100d",
       "version_major": 2,
       "version_minor": 0
      },
      "text/plain": [
       "interactive(children=(IntSlider(value=3749, description='index', max=7499), Output()), _dom_classes=('widget-i…"
      ]
     },
     "metadata": {},
     "output_type": "display_data"
    },
    {
     "data": {
      "application/vnd.jupyter.widget-view+json": {
       "model_id": "d4708fde203f4d8e92e13ea4ecee1874",
       "version_major": 2,
       "version_minor": 0
      },
      "text/plain": [
       "interactive(children=(IntSlider(value=499, description='index', max=999), Output()), _dom_classes=('widget-int…"
      ]
     },
     "metadata": {},
     "output_type": "display_data"
    }
   ],
   "source": [
    "import ipywidgets as widgets\n",
    "from ipywidgets import interact, interact_manual\n",
    "\n",
    "## Define a function that displays a digit given its vector representation\n",
    "def show_digit(x):\n",
    "    plt.axis('off')\n",
    "    plt.imshow(x.reshape((28,28)), cmap=plt.cm.gray_r)\n",
    "    plt.show()\n",
    "\n",
    "## Define a function that takes an index into a particular \n",
    "## data set (\"train\" or \"test\") and displays that image.\n",
    "def vis_image(index, dataset, labels):\n",
    "    show_digit(dataset[index])\n",
    "    print(\"Label \" + str(labels[index]))\n",
    "\n",
    "## View the first data point in the training set\n",
    "@interact\n",
    "def vis_image_train(index=(0,len(train_data)-1,1)):\n",
    "    vis_image(index, train_data, train_labels)\n",
    "\n",
    "## Now view the first data point in the test set\n",
    "@interact\n",
    "def vis_image_test(index=(0,len(test_data)-1,1)):\n",
    "    vis_image(index, test_data, test_labels)\n",
    "    \n"
   ]
  },
  {
   "cell_type": "markdown",
   "id": "92b5159a",
   "metadata": {
    "collapsed": true,
    "deletable": false,
    "editable": false,
    "jupyter": {
     "outputs_hidden": true
    },
    "nbgrader": {
     "cell_type": "markdown",
     "checksum": "3f9aed06a130f1a5a066242614e1d30f",
     "grade": false,
     "grade_id": "cell-041930a1f26a70b4",
     "locked": true,
     "schema_version": 3,
     "solution": false,
     "task": false
    }
   },
   "source": [
    "## Squared Euclidean distance  ($L_2$-distance)\n",
    "\n",
    "To compute nearest neighbors in our data set, we need to first be able to compute distances between samples. \n",
    "\n",
    "A common distance function is the **Euclidean distance**: for two input vectors $x, y \\in \\mathbb{R}^n$, their Euclidean distance is defined as \n",
    "\n",
    "$$dist(x,y)=\\|x - y\\|_2 = \\sqrt{\\sum_{i=1}^n (x_i - y_i)^2}$$\n",
    "\n",
    "For performance reasons, we omit the square root, and simply the compute **squared Euclidean distance**:\n",
    "\n",
    "$${dist}^2(x,y)=\\|x - y\\|_2^2 = \\sum_{i=1}^n (x_i - y_i)^2$$\n",
    "\n",
    "**Note:** For the purposes of nearest neighbor computations, the two are equivalent: for three vectors $x, y, z \\in \\mathbb{R}^n$, we have \n",
    "$$\\|x - y\\|_2 \\leq \\|x - z\\|_2 \\text{ if and only if } \\|x - y\\|_2^2 \\leq \\|x - z\\|_2^2$$"
   ]
  },
  {
   "cell_type": "markdown",
   "id": "bff0aacd",
   "metadata": {
    "deletable": false,
    "editable": false,
    "nbgrader": {
     "cell_type": "markdown",
     "checksum": "6c0884a042706f5c83c08547e3032ca8",
     "grade": false,
     "grade_id": "cell-d3e1b0cdeb12e015",
     "locked": true,
     "schema_version": 3,
     "solution": false,
     "task": false
    }
   },
   "source": [
    "### Task 2: Implement the Euclidean distance ($L_2$-distance)\n",
    "\n",
    "We need to be able to compute the **squared** Euclidean distance. \n",
    "\n",
    "<div class=\"alert alert-success alertsuccess\" style=\"margin-top: 20px\">\n",
    "\n",
    "Implement the following function\n",
    "\n",
    "```python\n",
    "def squared_dist(x, y):\n",
    "\n",
    "```\n",
    "\n",
    "to compute the Euclidean distance between two input vectors x and y.\n",
    "</div>"
   ]
  },
  {
   "cell_type": "code",
   "execution_count": 109,
   "id": "14eebc85",
   "metadata": {
    "deletable": false,
    "nbgrader": {
     "cell_type": "code",
     "checksum": "d62171cf18c3b90b73d0a40e31822002",
     "grade": false,
     "grade_id": "cell-ca29eb5a42c76828",
     "locked": false,
     "schema_version": 3,
     "solution": true,
     "task": false
    }
   },
   "outputs": [],
   "source": [
    "## Takes a vector x and a vector y and returns the squared euclidean distance\n",
    "def squared_dist(x, y):\n",
    "    # YOUR CODE HERE\n",
    "    return np.sum((x - y)**2)"
   ]
  },
  {
   "cell_type": "markdown",
   "id": "4b4fb311",
   "metadata": {
    "deletable": false,
    "editable": false,
    "nbgrader": {
     "cell_type": "markdown",
     "checksum": "9c8d948024d49e8811a0153ab31ff024",
     "grade": false,
     "grade_id": "cell-05b5d48c9188b8cc",
     "locked": true,
     "schema_version": 3,
     "solution": false,
     "task": false
    }
   },
   "source": [
    "Run the following tests to check if your implementation is correct"
   ]
  },
  {
   "cell_type": "code",
   "execution_count": 110,
   "id": "ac3ed1e2",
   "metadata": {
    "deletable": false,
    "editable": false,
    "nbgrader": {
     "cell_type": "code",
     "checksum": "d73aa69eb07763b9fb810ef8c2887936",
     "grade": false,
     "grade_id": "cell-adc6eeb0d6070433",
     "locked": true,
     "schema_version": 3,
     "solution": false,
     "task": false
    }
   },
   "outputs": [
    {
     "data": {
      "text/plain": [
       "(7500, 784)"
      ]
     },
     "execution_count": 110,
     "metadata": {},
     "output_type": "execute_result"
    }
   ],
   "source": [
    "train_data.shape"
   ]
  },
  {
   "cell_type": "code",
   "execution_count": 111,
   "id": "00280879",
   "metadata": {
    "deletable": false,
    "editable": false,
    "nbgrader": {
     "cell_type": "code",
     "checksum": "a14f0f8e90befbde4c7a912d33ba4be9",
     "grade": true,
     "grade_id": "cell-40562894ceb2193a",
     "locked": true,
     "points": 1,
     "schema_version": 3,
     "solution": false,
     "task": false
    }
   },
   "outputs": [
    {
     "name": "stdout",
     "output_type": "stream",
     "text": [
      "Squared distance: 5816001.000 should be approx. 5816001\n",
      "Squared distance: 6440239.000 should be approx. 6440239\n",
      "Squared distance: 6039965.000 should be approx. 6039965\n"
     ]
    }
   ],
   "source": [
    "## Compute distance between a seven and a one in our training set.\n",
    "print('Squared distance: {:.3f} should be approx. 5816001'.format(squared_dist(train_data[15],train_data[3])))\n",
    "assert abs(squared_dist(train_data[15],train_data[3]) - 5816001) < 1\n",
    "\n",
    "# ## Compute distance between a seven and a two in our training set.\n",
    "print('Squared distance: {:.3f} should be approx. 6440239'.format(squared_dist(train_data[15],train_data[5])))\n",
    "assert abs(squared_dist(train_data[15],train_data[5]) - 6440239)  < 1\n",
    "\n",
    "# ## Compute distance between two seven's in our training set.\n",
    "print('Squared distance: {:.3f} should be approx. 6039965'.format(squared_dist(train_data[15],train_data[29])))\n",
    "assert abs(squared_dist(train_data[15],train_data[29]) - 6039965) < 1\n"
   ]
  },
  {
   "cell_type": "markdown",
   "id": "a373009a",
   "metadata": {
    "deletable": false,
    "editable": false,
    "nbgrader": {
     "cell_type": "markdown",
     "checksum": "bbe5879abde9b2798c515fb6b161c507",
     "grade": false,
     "grade_id": "cell-43ac9c53aaedb899",
     "locked": true,
     "schema_version": 3,
     "solution": false,
     "task": false
    }
   },
   "source": [
    "### Task 3: Implement the 1-Nearest-Neighbor\n",
    "\n",
    "Now that we have a distance function defined, we can turn to the **1-nearest-neighbor**. \n",
    "\n",
    "<div class=\"alert alert-success alertsuccess\" style=\"margin-top: 20px\">\n",
    "First implement the method \n",
    "\n",
    "```python\n",
    "def find_NN(x, train)\n",
    "```\n",
    "\n",
    "It should iterate through all samples in **train** and return the **index** of the vector with the smallest Euclidean distance.\n",
    "</div>\n",
    "\n",
    "*Hint: A useful utility method is ```np.argmin ``` which returns the index of the minimum in a list of floats.*"
   ]
  },
  {
   "cell_type": "code",
   "execution_count": 112,
   "id": "0a6c1a1b",
   "metadata": {
    "deletable": false,
    "nbgrader": {
     "cell_type": "code",
     "checksum": "bf627dae59404ec7653fb2f89a9e442e",
     "grade": false,
     "grade_id": "cell-bfb55f37aba9a818",
     "locked": false,
     "schema_version": 3,
     "solution": true,
     "task": false
    }
   },
   "outputs": [],
   "source": [
    "## Takes a vector x and returns the index of its nearest neighbor in train_data\n",
    "def find_NN(x, train):\n",
    "    # YOUR CODE HERE\n",
    "    min_distance = float('inf')\n",
    "    nearest_neighbor_idx = None\n",
    "    \n",
    "    for i, sample in enumerate(train):\n",
    "        distance = squared_dist(x, sample)\n",
    "        if distance < min_distance:\n",
    "            min_distance = distance\n",
    "            nearest_neighbor_idx = i\n",
    "    \n",
    "    return nearest_neighbor_idx"
   ]
  },
  {
   "cell_type": "markdown",
   "id": "0ae08d36",
   "metadata": {
    "deletable": false,
    "editable": false,
    "nbgrader": {
     "cell_type": "markdown",
     "checksum": "55dcc6d104fa82600c7fb9f2ec30bf85",
     "grade": false,
     "grade_id": "cell-fc6fed19b14dc08f",
     "locked": true,
     "schema_version": 3,
     "solution": false,
     "task": false
    }
   },
   "source": [
    "Run the following tests to check if your implementation is correct"
   ]
  },
  {
   "cell_type": "code",
   "execution_count": 113,
   "id": "eef6f272",
   "metadata": {
    "deletable": false,
    "editable": false,
    "nbgrader": {
     "cell_type": "code",
     "checksum": "8061ae604d30f696a86602f1ea2ba138",
     "grade": true,
     "grade_id": "cell-ccd609f35467883c",
     "locked": true,
     "points": 1,
     "schema_version": 3,
     "solution": false,
     "task": false
    }
   },
   "outputs": [
    {
     "name": "stdout",
     "output_type": "stream",
     "text": [
      "Found NN: 0 should be 0 ok\n",
      "Found NN: 1 should be 1 ok\n",
      "Found NN: 2 should be 2 ok\n",
      "Found NN: 3 should be 3 ok\n",
      "Found NN: 4 should be 4 ok\n",
      "Found NN: 5 should be 5 ok\n",
      "Found NN: 6 should be 6 ok\n",
      "Found NN: 7 should be 7 ok\n",
      "Found NN: 8 should be 8 ok\n",
      "Found NN: 9 should be 9 ok\n"
     ]
    }
   ],
   "source": [
    "for i in np.arange(10):\n",
    "    nn = find_NN(train_data[i], train_data)\n",
    "    print('Found NN: {:d} should be {:d}'.format(nn, i), (\"ok\" if nn == i else \"fail\"))\n",
    "    assert nn == i \n"
   ]
  },
  {
   "cell_type": "markdown",
   "id": "3a661dbb",
   "metadata": {
    "deletable": false,
    "editable": false,
    "nbgrader": {
     "cell_type": "markdown",
     "checksum": "2be300ed8fc68cc1cb99366675bcadeb",
     "grade": false,
     "grade_id": "cell-3c46a58ba9d9ad8d",
     "locked": true,
     "schema_version": 3,
     "solution": false,
     "task": false
    }
   },
   "source": [
    "### Task 4: Implement the 1-Nearest-Neighbor Classification\n",
    "\n",
    "Now that we have a distance function and the 1-nearest-neighbor defined, we can turn both into a **1-nearest-neighbor classification**. \n",
    "\n",
    "<div class=\"alert alert-success alertsuccess\" style=\"margin-top: 20px\">\n",
    "\n",
    "Implement the\n",
    "```python\n",
    "def NN_classifier(x, train, labels)\n",
    "```\n",
    "method. It takes a vector x and returns the class label of its nearest neighbor in train\n",
    "\n",
    "</div>\n",
    "\n",
    "*Hint: Use (one or both) of ```find_NN``` and ```squared_dist``` implemented before.*"
   ]
  },
  {
   "cell_type": "code",
   "execution_count": 114,
   "id": "afd0517d",
   "metadata": {
    "deletable": false,
    "nbgrader": {
     "cell_type": "code",
     "checksum": "6bca7bc5f68cbe4ae9d63bcf6fc4870d",
     "grade": false,
     "grade_id": "cell-536d514c2b9c3e85",
     "locked": false,
     "schema_version": 3,
     "solution": true,
     "task": false
    }
   },
   "outputs": [],
   "source": [
    "## Takes a vector x and returns the class of its nearest neighbor in train_data\n",
    "def NN_classifier(x, train, labels):\n",
    "    # YOUR CODE HERE\n",
    "    return labels[find_NN(x, train)]"
   ]
  },
  {
   "cell_type": "markdown",
   "id": "d4d347fe",
   "metadata": {
    "deletable": false,
    "editable": false,
    "nbgrader": {
     "cell_type": "markdown",
     "checksum": "417c1c022428bc4d9a820750ff8119aa",
     "grade": false,
     "grade_id": "cell-104210427304f9ea",
     "locked": true,
     "schema_version": 3,
     "solution": false,
     "task": false
    }
   },
   "source": [
    "Run the following tests to check if your implementation is correct"
   ]
  },
  {
   "cell_type": "code",
   "execution_count": 115,
   "id": "f0d8a44f",
   "metadata": {
    "deletable": false,
    "editable": false,
    "nbgrader": {
     "cell_type": "code",
     "checksum": "5cb26358174b042c58130ca871a28dac",
     "grade": true,
     "grade_id": "cell-01c65c7c9ed763f8",
     "locked": true,
     "points": 1,
     "schema_version": 3,
     "solution": false,
     "task": false
    }
   },
   "outputs": [
    {
     "name": "stdout",
     "output_type": "stream",
     "text": [
      "Found Class 9 should be 9 ok\n",
      "Found Class 2 should be 2 ok\n",
      "Found Class 8 should be 8 ok\n",
      "Found Class 3 should be 3 ok\n",
      "Found Class 7 should be 7 ok\n",
      "Found Class 1 should be 1 ok\n",
      "Found Class 6 should be 6 ok\n",
      "Found Class 7 should be 7 ok\n",
      "Found Class 9 should be 9 ok\n",
      "Found Class 2 should be 2 ok\n"
     ]
    }
   ],
   "source": [
    "for i in np.arange(10):\n",
    "    nn = NN_classifier(train_data[i], train_data, train_labels)\n",
    "    print('Found Class {:d} should be {:d}'.format(nn, train_labels[i]), (\"ok\" if nn == train_labels[i] else \"fail\"))\n",
    "    assert NN_classifier(train_data[i], train_data, train_labels) == train_labels[i]\n"
   ]
  },
  {
   "cell_type": "markdown",
   "id": "2961f908",
   "metadata": {
    "deletable": false,
    "editable": false,
    "nbgrader": {
     "cell_type": "markdown",
     "checksum": "6d9f66f0d91a27108edefa545ab13457",
     "grade": false,
     "grade_id": "cell-d20d0dce5ad83e06",
     "locked": true,
     "schema_version": 3,
     "solution": false,
     "task": false
    }
   },
   "source": [
    "## Qualitative Error Analysis\n",
    "\n",
    "To spot problems in the implementation or the model training, it is always useful to look at some concrete mistakes your classifier does"
   ]
  },
  {
   "cell_type": "markdown",
   "id": "0734806c",
   "metadata": {
    "deletable": false,
    "editable": false,
    "nbgrader": {
     "cell_type": "markdown",
     "checksum": "29565c36fc706e9b417497b9ea4d41bc",
     "grade": false,
     "grade_id": "cell-ae9e44070cda082d",
     "locked": true,
     "schema_version": 3,
     "solution": false,
     "task": false
    }
   },
   "source": [
    "### Let's first plot some successes"
   ]
  },
  {
   "cell_type": "code",
   "execution_count": 116,
   "id": "4a581d92",
   "metadata": {
    "deletable": false,
    "editable": false,
    "nbgrader": {
     "cell_type": "code",
     "checksum": "afb4a25038d9bcef2a84d1d61d46161f",
     "grade": false,
     "grade_id": "cell-cf4c3f5cc572d663",
     "locked": true,
     "schema_version": 3,
     "solution": false,
     "task": false
    }
   },
   "outputs": [
    {
     "name": "stdout",
     "output_type": "stream",
     "text": [
      "NN classification: 0 on test image 0\n",
      "The test image:\n"
     ]
    },
    {
     "data": {
      "image/png": "[encoded data removed]",
      "text/plain": [
       "<Figure size 640x480 with 1 Axes>"
      ]
     },
     "metadata": {},
     "output_type": "display_data"
    },
    {
     "name": "stdout",
     "output_type": "stream",
     "text": [
      "Label 0\n",
      "Corresponding nearest neighbor:\n"
     ]
    },
    {
     "data": {
      "image/png": "[encoded data removed]",
      "text/plain": [
       "<Figure size 640x480 with 1 Axes>"
      ]
     },
     "metadata": {},
     "output_type": "display_data"
    },
    {
     "name": "stdout",
     "output_type": "stream",
     "text": [
      "Label 0\n"
     ]
    }
   ],
   "source": [
    "for i in np.arange(40):\n",
    "    nnClass = NN_classifier(test_data[i], train_data, train_labels)\n",
    "    if (nnClass == test_labels[i]):\n",
    "        ## A success case:\n",
    "        print(f\"NN classification: {nnClass} on test image {i}\")\n",
    "        print(\"The test image:\")\n",
    "        vis_image(i, test_data, test_labels)\n",
    "\n",
    "        print(\"Corresponding nearest neighbor:\")\n",
    "        vis_image(find_NN(test_data[i], train_data), train_data, train_labels)\n",
    "\n",
    "        break"
   ]
  },
  {
   "cell_type": "markdown",
   "id": "4f76ad15",
   "metadata": {
    "deletable": false,
    "editable": false,
    "nbgrader": {
     "cell_type": "markdown",
     "checksum": "3e08fe537b5d19a184cce3704647faf1",
     "grade": false,
     "grade_id": "cell-564139ea00586c1a",
     "locked": true,
     "schema_version": 3,
     "solution": false,
     "task": false
    }
   },
   "source": [
    "### We will now plot some failures"
   ]
  },
  {
   "cell_type": "code",
   "execution_count": 117,
   "id": "a51293ee",
   "metadata": {
    "deletable": false,
    "editable": false,
    "nbgrader": {
     "cell_type": "code",
     "checksum": "b0ed432cc79ef2ae0bb3411e50e713a2",
     "grade": false,
     "grade_id": "cell-bf6858a242359596",
     "locked": true,
     "schema_version": 3,
     "solution": false,
     "task": false
    }
   },
   "outputs": [
    {
     "name": "stdout",
     "output_type": "stream",
     "text": [
      "NN classification: 2 on test image 39\n",
      "The test image:\n"
     ]
    },
    {
     "data": {
      "image/png": "[encoded data removed]",
      "text/plain": [
       "<Figure size 640x480 with 1 Axes>"
      ]
     },
     "metadata": {},
     "output_type": "display_data"
    },
    {
     "name": "stdout",
     "output_type": "stream",
     "text": [
      "Label 3\n",
      "Corresponding nearest neighbor:\n"
     ]
    },
    {
     "data": {
      "image/png": "[encoded data removed]",
      "text/plain": [
       "<Figure size 640x480 with 1 Axes>"
      ]
     },
     "metadata": {},
     "output_type": "display_data"
    },
    {
     "name": "stdout",
     "output_type": "stream",
     "text": [
      "Label 2\n"
     ]
    }
   ],
   "source": [
    "for i in range(40) :\n",
    "    nnClass = NN_classifier(test_data[i], train_data, train_labels)\n",
    "    if (nnClass != test_labels[i]):\n",
    "        ## A success case:\n",
    "        print(f\"NN classification: {nnClass} on test image {i}\")\n",
    "        print(\"The test image:\")\n",
    "        vis_image(i, test_data, test_labels)\n",
    "\n",
    "        print(\"Corresponding nearest neighbor:\")\n",
    "        vis_image(find_NN(test_data[i], train_data), train_data, train_labels)\n",
    "\n",
    "        break"
   ]
  },
  {
   "cell_type": "markdown",
   "id": "835ca105",
   "metadata": {
    "deletable": false,
    "editable": false,
    "nbgrader": {
     "cell_type": "markdown",
     "checksum": "b79777fa45c2e2054fc71604deb70e12",
     "grade": false,
     "grade_id": "cell-55c1d0f941402747",
     "locked": true,
     "schema_version": 3,
     "solution": false,
     "task": false
    }
   },
   "source": [
    "### Task 5: Error Analysis\n",
    "The above two examples show a success on **image 0** and a failure on **image 4** of the NN classifier.\n",
    "\n",
    "<div class=\"alert alert-success alertsuccess\" style=\"margin-top: 20px\">\n",
    "\n",
    "Now try the **test image with index 100**.\n",
    "* What is the index of its nearest neighbor in the training set?\n",
    "* What label is predicted? Is it the correct label?\n",
    "    \n",
    "</div>"
   ]
  },
  {
   "cell_type": "code",
   "execution_count": 118,
   "id": "1551d62b",
   "metadata": {
    "scrolled": false
   },
   "outputs": [
    {
     "name": "stdout",
     "output_type": "stream",
     "text": [
      "NN classification: 4 on test image 100\n",
      "The test image:\n"
     ]
    },
    {
     "data": {
      "image/png": "[encoded data removed]",
      "text/plain": [
       "<Figure size 640x480 with 1 Axes>"
      ]
     },
     "metadata": {},
     "output_type": "display_data"
    },
    {
     "name": "stdout",
     "output_type": "stream",
     "text": [
      "Label 4\n",
      "Corresponding nearest neighbor:\n"
     ]
    },
    {
     "data": {
      "image/png": "[encoded data removed]",
      "text/plain": [
       "<Figure size 640x480 with 1 Axes>"
      ]
     },
     "metadata": {},
     "output_type": "display_data"
    },
    {
     "name": "stdout",
     "output_type": "stream",
     "text": [
      "Label 4\n",
      "index of nearest neighbor: 4711\n"
     ]
    }
   ],
   "source": [
    "# Write some code as needed\n",
    "# And do not forget to write down the answer in the following box\n",
    "i = 100\n",
    "nnClass = NN_classifier(test_data[i], train_data, train_labels)\n",
    "print(f\"NN classification: {nnClass} on test image {i}\")\n",
    "print(\"The test image:\")\n",
    "vis_image(i, test_data, test_labels)\n",
    "print(\"Corresponding nearest neighbor:\")\n",
    "vis_image(find_NN(test_data[i], train_data), train_data, train_labels)\n",
    "print(\"index of nearest neighbor: \" + str(find_NN(test_data[i], train_data)))"
   ]
  },
  {
   "cell_type": "markdown",
   "id": "aec0042e",
   "metadata": {
    "deletable": false,
    "nbgrader": {
     "cell_type": "markdown",
     "checksum": "056c38c03add4ebf1d6c933b7ad4e522",
     "grade": true,
     "grade_id": "cell-2a5f79e80ee0c06b",
     "locked": false,
     "points": 1,
     "schema_version": 3,
     "solution": true,
     "task": false
    }
   },
   "source": [
    "The index of the nearest neighbor is 4711.\n",
    "The predicted label is 4. The correct label is also 4."
   ]
  },
  {
   "cell_type": "markdown",
   "id": "b7a21e3a",
   "metadata": {
    "deletable": false,
    "editable": false,
    "nbgrader": {
     "cell_type": "markdown",
     "checksum": "84366e2b927e8f98763db62ca7c5be39",
     "grade": false,
     "grade_id": "cell-9e86b0e51339c568",
     "locked": true,
     "schema_version": 3,
     "solution": false,
     "task": false
    }
   },
   "source": [
    "## Optional: Processing the full test set\n",
    "\n",
    "Now let's apply our nearest neighbor classifier to the full data set. \n",
    "\n",
    "<div class=\"alert alert-block alert-danger\" style=\"margin-top: 20px\">\n",
    "Note that to classify each of the $1000$ test point, our code takes a full pass over each of the $7500$ training samples. Thus we should not expect testing to be very fast.     \n",
    "</div>\n",
    "\n",
    "**The following code takes up to 17 seconds on an Apple M1 and 142 seconds on Google Colab.**"
   ]
  },
  {
   "cell_type": "code",
   "execution_count": 119,
   "id": "9e833dbd",
   "metadata": {
    "deletable": false,
    "editable": false,
    "nbgrader": {
     "cell_type": "code",
     "checksum": "daf4281f5492c9463a8d739c768333db",
     "grade": false,
     "grade_id": "cell-5edbba25ad42a2b5",
     "locked": true,
     "schema_version": 3,
     "solution": false,
     "task": false
    }
   },
   "outputs": [
    {
     "name": "stdout",
     "output_type": "stream",
     "text": [
      "Error of nearest neighbor classifier: 4.6%\n",
      "Classification time (seconds):  22.966156244277954\n"
     ]
    }
   ],
   "source": [
    "## Predict on each test data point (and time it!)\n",
    "def runFullTest():\n",
    "    from joblib import Parallel, delayed\n",
    "\n",
    "    t_before = time.time()\n",
    "    test_predictions = Parallel(n_jobs=-1)(\n",
    "        delayed(NN_classifier)(test_data[i], train_data, train_labels) for i in range(len(test_labels)))\n",
    "    t_after = time.time()\n",
    "\n",
    "    ## Compute the error\n",
    "    err_positions = np.not_equal(test_predictions, test_labels)\n",
    "    error = float(np.sum(err_positions))/len(test_labels)\n",
    "\n",
    "    print('Error of nearest neighbor classifier: {:.1f}%'.format(error*100))\n",
    "    print(\"Classification time (seconds): \", t_after - t_before)\n",
    "   \n",
    "runFullTest()"
   ]
  },
  {
   "cell_type": "markdown",
   "id": "87b75fdb",
   "metadata": {
    "deletable": false,
    "editable": false,
    "nbgrader": {
     "cell_type": "markdown",
     "checksum": "7e494414246948eb95623be3d9005810",
     "grade": false,
     "grade_id": "cell-12e7d41d35b6516b",
     "locked": true,
     "schema_version": 3,
     "solution": false,
     "task": false
    }
   },
   "source": [
    "## Scikit-Learn: k-Nearest-Neighbor Classifier\n",
    "\n",
    "We will now turn to `scikit-learn`, which provides an efficient implementation of the k-Nearest-Neighbor classifier: [Module k-Nearest Neighbor Classifier](https://scikit-learn.org/stable/modules/generated/sklearn.neighbors.KNeighborsClassifier.html#sklearn.neighbors.KNeighborsClassifier). \n",
    "\n",
    "We will first intialize a 3-Nearest-Neighbor classifier."
   ]
  },
  {
   "cell_type": "code",
   "execution_count": 120,
   "id": "4058d776",
   "metadata": {
    "deletable": false,
    "editable": false,
    "nbgrader": {
     "cell_type": "code",
     "checksum": "bf60bb46e9cac67544e8dc66813880a7",
     "grade": false,
     "grade_id": "cell-5ce0f088d54b81a6",
     "locked": true,
     "schema_version": 3,
     "solution": false,
     "task": false
    }
   },
   "outputs": [],
   "source": [
    "from sklearn.neighbors import KNeighborsClassifier\n",
    "knn = KNeighborsClassifier(n_neighbors=3)"
   ]
  },
  {
   "cell_type": "markdown",
   "id": "a2b1a1db",
   "metadata": {
    "deletable": false,
    "editable": false,
    "nbgrader": {
     "cell_type": "markdown",
     "checksum": "7eb59237f6823a558214687fbb66a5db",
     "grade": false,
     "grade_id": "cell-d20c6a9f58e80559",
     "locked": true,
     "schema_version": 3,
     "solution": false,
     "task": false
    }
   },
   "source": [
    "All supervised estimators in `scikit-learn` implement a `fit(X, y)` method to fit the model:"
   ]
  },
  {
   "cell_type": "code",
   "execution_count": 121,
   "id": "91f04016",
   "metadata": {
    "deletable": false,
    "editable": false,
    "nbgrader": {
     "cell_type": "code",
     "checksum": "a2fe5e45a5a4ab86c0513bcbe138f449",
     "grade": false,
     "grade_id": "cell-696fdf7c6885a12b",
     "locked": true,
     "schema_version": 3,
     "solution": false,
     "task": false
    }
   },
   "outputs": [
    {
     "data": {
      "text/html": [
       "<style>#sk-container-id-1 {color: black;background-color: white;}#sk-container-id-1 pre{padding: 0;}#sk-container-id-1 div.sk-toggleable {background-color: white;}#sk-container-id-1 label.sk-toggleable__label {cursor: pointer;display: block;width: 100%;margin-bottom: 0;padding: 0.3em;box-sizing: border-box;text-align: center;}#sk-container-id-1 label.sk-toggleable__label-arrow:before {content: \"▸\";float: left;margin-right: 0.25em;color: #696969;}#sk-container-id-1 label.sk-toggleable__label-arrow:hover:before {color: black;}#sk-container-id-1 div.sk-estimator:hover label.sk-toggleable__label-arrow:before {color: black;}#sk-container-id-1 div.sk-toggleable__content {max-height: 0;max-width: 0;overflow: hidden;text-align: left;background-color: #f0f8ff;}#sk-container-id-1 div.sk-toggleable__content pre {margin: 0.2em;color: black;border-radius: 0.25em;background-color: #f0f8ff;}#sk-container-id-1 input.sk-toggleable__control:checked~div.sk-toggleable__content {max-height: 200px;max-width: 100%;overflow: auto;}#sk-container-id-1 input.sk-toggleable__control:checked~label.sk-toggleable__label-arrow:before {content: \"▾\";}#sk-container-id-1 div.sk-estimator input.sk-toggleable__control:checked~label.sk-toggleable__label {background-color: #d4ebff;}#sk-container-id-1 div.sk-label input.sk-toggleable__control:checked~label.sk-toggleable__label {background-color: #d4ebff;}#sk-container-id-1 input.sk-hidden--visually {border: 0;clip: rect(1px 1px 1px 1px);clip: rect(1px, 1px, 1px, 1px);height: 1px;margin: -1px;overflow: hidden;padding: 0;position: absolute;width: 1px;}#sk-container-id-1 div.sk-estimator {font-family: monospace;background-color: #f0f8ff;border: 1px dotted black;border-radius: 0.25em;box-sizing: border-box;margin-bottom: 0.5em;}#sk-container-id-1 div.sk-estimator:hover {background-color: #d4ebff;}#sk-container-id-1 div.sk-parallel-item::after {content: \"\";width: 100%;border-bottom: 1px solid gray;flex-grow: 1;}#sk-container-id-1 div.sk-label:hover label.sk-toggleable__label {background-color: #d4ebff;}#sk-container-id-1 div.sk-serial::before {content: \"\";position: absolute;border-left: 1px solid gray;box-sizing: border-box;top: 0;bottom: 0;left: 50%;z-index: 0;}#sk-container-id-1 div.sk-serial {display: flex;flex-direction: column;align-items: center;background-color: white;padding-right: 0.2em;padding-left: 0.2em;position: relative;}#sk-container-id-1 div.sk-item {position: relative;z-index: 1;}#sk-container-id-1 div.sk-parallel {display: flex;align-items: stretch;justify-content: center;background-color: white;position: relative;}#sk-container-id-1 div.sk-item::before, #sk-container-id-1 div.sk-parallel-item::before {content: \"\";position: absolute;border-left: 1px solid gray;box-sizing: border-box;top: 0;bottom: 0;left: 50%;z-index: -1;}#sk-container-id-1 div.sk-parallel-item {display: flex;flex-direction: column;z-index: 1;position: relative;background-color: white;}#sk-container-id-1 div.sk-parallel-item:first-child::after {align-self: flex-end;width: 50%;}#sk-container-id-1 div.sk-parallel-item:last-child::after {align-self: flex-start;width: 50%;}#sk-container-id-1 div.sk-parallel-item:only-child::after {width: 0;}#sk-container-id-1 div.sk-dashed-wrapped {border: 1px dashed gray;margin: 0 0.4em 0.5em 0.4em;box-sizing: border-box;padding-bottom: 0.4em;background-color: white;}#sk-container-id-1 div.sk-label label {font-family: monospace;font-weight: bold;display: inline-block;line-height: 1.2em;}#sk-container-id-1 div.sk-label-container {text-align: center;}#sk-container-id-1 div.sk-container {/* jupyter's `normalize.less` sets `[hidden] { display: none; }` but bootstrap.min.css set `[hidden] { display: none !important; }` so we also need the `!important` here to be able to override the default hidden behavior on the sphinx rendered scikit-learn.org. See: https://github.com/scikit-learn/scikit-learn/issues/21755 */display: inline-block !important;position: relative;}#sk-container-id-1 div.sk-text-repr-fallback {display: none;}</style><div id=\"sk-container-id-1\" class=\"sk-top-container\"><div class=\"sk-text-repr-fallback\"><pre>KNeighborsClassifier(n_neighbors=3)</pre><b>In a Jupyter environment, please rerun this cell to show the HTML representation or trust the notebook. <br />On GitHub, the HTML representation is unable to render, please try loading this page with nbviewer.org.</b></div><div class=\"sk-container\" hidden><div class=\"sk-item\"><div class=\"sk-estimator sk-toggleable\"><input class=\"sk-toggleable__control sk-hidden--visually\" id=\"sk-estimator-id-1\" type=\"checkbox\" checked><label for=\"sk-estimator-id-1\" class=\"sk-toggleable__label sk-toggleable__label-arrow\">KNeighborsClassifier</label><div class=\"sk-toggleable__content\"><pre>KNeighborsClassifier(n_neighbors=3)</pre></div></div></div></div></div>"
      ],
      "text/plain": [
       "KNeighborsClassifier(n_neighbors=3)"
      ]
     },
     "execution_count": 121,
     "metadata": {},
     "output_type": "execute_result"
    }
   ],
   "source": [
    "knn.fit(train_data, train_labels)"
   ]
  },
  {
   "cell_type": "markdown",
   "id": "d52f8a62",
   "metadata": {
    "deletable": false,
    "editable": false,
    "nbgrader": {
     "cell_type": "markdown",
     "checksum": "e8ccee32c15e0fa80ba67eb32a49d498",
     "grade": false,
     "grade_id": "cell-6ebc31a6601d90aa",
     "locked": true,
     "schema_version": 3,
     "solution": false,
     "task": false
    }
   },
   "source": [
    "The `predict(X)` method, given unlabeled observations `X`, returns the predicted labels `y`."
   ]
  },
  {
   "cell_type": "code",
   "execution_count": 122,
   "id": "8d12035b",
   "metadata": {
    "deletable": false,
    "editable": false,
    "nbgrader": {
     "cell_type": "code",
     "checksum": "d8d3bc3c69f95a76fdc4e9425ca123e5",
     "grade": false,
     "grade_id": "cell-3ec3acab4f9d0aff",
     "locked": true,
     "schema_version": 3,
     "solution": false,
     "task": false
    }
   },
   "outputs": [],
   "source": [
    "predictions = knn.predict(test_data)"
   ]
  },
  {
   "cell_type": "markdown",
   "id": "b86e6df0",
   "metadata": {
    "deletable": false,
    "editable": false,
    "nbgrader": {
     "cell_type": "markdown",
     "checksum": "5e0f65664614e6c53f3dea47910d7f02",
     "grade": false,
     "grade_id": "cell-a0e8041bf43a7ee0",
     "locked": true,
     "schema_version": 3,
     "solution": false,
     "task": false
    }
   },
   "source": [
    "Finally, the `score(X, y)` method computes the mean `accuracy` on the given test data `X` and labels `y`."
   ]
  },
  {
   "cell_type": "code",
   "execution_count": 123,
   "id": "7d4bdc20",
   "metadata": {
    "deletable": false,
    "editable": false,
    "nbgrader": {
     "cell_type": "code",
     "checksum": "5a007317c77d601f6df10327e6a20024",
     "grade": false,
     "grade_id": "cell-699465a7e8568411",
     "locked": true,
     "schema_version": 3,
     "solution": false,
     "task": false
    }
   },
   "outputs": [
    {
     "name": "stdout",
     "output_type": "stream",
     "text": [
      "Test accuracy: 94.8%\n"
     ]
    }
   ],
   "source": [
    "score = knn.score(test_data, test_labels)\n",
    "print('Test accuracy: {:.1f}%'.format(score*100))"
   ]
  },
  {
   "cell_type": "markdown",
   "id": "964c7b68",
   "metadata": {
    "deletable": false,
    "editable": false,
    "nbgrader": {
     "cell_type": "markdown",
     "checksum": "befb88c50e6aa9211704fa5f95d55318",
     "grade": false,
     "grade_id": "cell-15e14c759d76a967",
     "locked": true,
     "schema_version": 3,
     "solution": false,
     "task": false
    }
   },
   "source": [
    "### Task 6: Test Error\n",
    "\n",
    "<div class=\"alert alert-success alertsuccess\" style=\"margin-top: 20px\">\n",
    "\n",
    "Complete the following method \n",
    "\n",
    "```python\n",
    "def testError(knn, X_test, y_test):\n",
    "```\n",
    "\n",
    "to return the 3-NN error on the test data using the trained model `knn`, and test dataset `X_test` with test labels `y_test`.\n",
    "\n",
    "</div>"
   ]
  },
  {
   "cell_type": "code",
   "execution_count": 124,
   "id": "90094fe0",
   "metadata": {
    "deletable": false,
    "nbgrader": {
     "cell_type": "code",
     "checksum": "5465af290e03267e4de5f4f05a222ebf",
     "grade": false,
     "grade_id": "cell-3f77516140b98c83",
     "locked": false,
     "schema_version": 3,
     "solution": true,
     "task": false
    }
   },
   "outputs": [],
   "source": [
    "def testError(knn, X_test, y_test):\n",
    "    # YOUR CODE HERE\n",
    "    predicted_labels = knn.predict(X_test)\n",
    "    error = 1 - knn.score(X_test, y_test)\n",
    "    return error"
   ]
  },
  {
   "cell_type": "markdown",
   "id": "1c472c33",
   "metadata": {
    "deletable": false,
    "editable": false,
    "nbgrader": {
     "cell_type": "markdown",
     "checksum": "bad88763205953261af6dc35fae33e6e",
     "grade": false,
     "grade_id": "cell-d9fec37dad876ce3",
     "locked": true,
     "schema_version": 3,
     "solution": false,
     "task": false
    }
   },
   "source": [
    "Run the following tests to check if your implementation is correct"
   ]
  },
  {
   "cell_type": "code",
   "execution_count": 125,
   "id": "b0494224",
   "metadata": {
    "deletable": false,
    "editable": false,
    "nbgrader": {
     "cell_type": "code",
     "checksum": "eb0a901298f04bc84146686b3e6bc5c8",
     "grade": true,
     "grade_id": "cell-032168e483a96686",
     "locked": true,
     "points": 1,
     "schema_version": 3,
     "solution": false,
     "task": false
    }
   },
   "outputs": [
    {
     "name": "stdout",
     "output_type": "stream",
     "text": [
      "Test error: 5.2%\n"
     ]
    }
   ],
   "source": [
    "print('Test error: {:.1f}%'.format(\n",
    "    testError(knn, test_data, test_labels)*100))\n",
    "assert_almost_equal(\n",
    "    testError(knn, test_data, test_labels), 0.052, decimal=3)"
   ]
  },
  {
   "cell_type": "markdown",
   "id": "d999626a",
   "metadata": {
    "deletable": false,
    "editable": false,
    "nbgrader": {
     "cell_type": "markdown",
     "checksum": "a985c686986325d53443a16f62e1c2ba",
     "grade": false,
     "grade_id": "cell-5c29113feb42edbc",
     "locked": true,
     "schema_version": 3,
     "solution": false,
     "task": false
    }
   },
   "source": [
    "### Task 7: Report the train error on MNIST\n",
    "\n",
    "<div class=\"alert alert-success alertsuccess\" style=\"margin-top: 20px\">\n",
    "\n",
    "Complete the following method\n",
    "\n",
    "```python\n",
    "def trainError(knn, X_train, y_train):\n",
    "```\n",
    "\n",
    "to return the 3-NN error on the train data using the trained model `knn`, and train dataset `X_train` with train labels `y_train`.\n",
    "\n",
    "</div>"
   ]
  },
  {
   "cell_type": "code",
   "execution_count": 126,
   "id": "088eb736",
   "metadata": {
    "deletable": false,
    "nbgrader": {
     "cell_type": "code",
     "checksum": "42167253d8ba1b4fc5ad356547d51697",
     "grade": false,
     "grade_id": "cell-cc5aae01f8a96f9e",
     "locked": false,
     "schema_version": 3,
     "solution": true,
     "task": false
    }
   },
   "outputs": [],
   "source": [
    "def trainError(knn, X_train, y_train):\n",
    "    # YOUR CODE HERE\n",
    "    predicted_labels = knn.predict(X_train)\n",
    "    error = 1 - knn.score(X_train, y_train)\n",
    "    return error"
   ]
  },
  {
   "cell_type": "markdown",
   "id": "2827d541",
   "metadata": {
    "deletable": false,
    "editable": false,
    "nbgrader": {
     "cell_type": "markdown",
     "checksum": "05049fe4a8130eb723bea951d11daa50",
     "grade": false,
     "grade_id": "cell-2d5da0cade361f56",
     "locked": true,
     "schema_version": 3,
     "solution": false,
     "task": false
    }
   },
   "source": [
    "Run the following tests to check if your implementation is correct"
   ]
  },
  {
   "cell_type": "code",
   "execution_count": 127,
   "id": "33804878",
   "metadata": {
    "deletable": false,
    "editable": false,
    "nbgrader": {
     "cell_type": "code",
     "checksum": "d8e113e04314e8ce8442d8893a2b0d0a",
     "grade": true,
     "grade_id": "cell-c1455ea5899cfe90",
     "locked": true,
     "points": 1,
     "schema_version": 3,
     "solution": false,
     "task": false
    }
   },
   "outputs": [
    {
     "name": "stdout",
     "output_type": "stream",
     "text": [
      "Train error: 2.9%\n"
     ]
    }
   ],
   "source": [
    "print('Train error: {:.1f}%'.format(\n",
    "    trainError(knn, train_data, train_labels)*100))\n",
    "assert_almost_equal(\n",
    "    trainError(knn, train_data, train_labels), 0.029, decimal=2)"
   ]
  },
  {
   "cell_type": "markdown",
   "id": "b8e7f0f6",
   "metadata": {
    "deletable": false,
    "editable": false,
    "nbgrader": {
     "cell_type": "markdown",
     "checksum": "d52bb998625103597d09fdd186f46933",
     "grade": false,
     "grade_id": "cell-a7c637532a55cff6",
     "locked": true,
     "schema_version": 3,
     "solution": false,
     "task": false
    }
   },
   "source": [
    "### Task 8: Explain the train error \n",
    "\n",
    "<div class=\"alert alert-success alertsuccess\" style=\"margin-top: 20px\">\n",
    "    \n",
    "In the lecture we have learned that the train error is $0\\%$ when using nearest-neighbor classifiers: an image in the training data is always the nearest neighbor of itself. \n",
    "\n",
    "Why is it the training error >$0\\%$ in this experiment?\n",
    "\n",
    "</div>"
   ]
  },
  {
   "cell_type": "markdown",
   "id": "08af493e",
   "metadata": {
    "deletable": false,
    "nbgrader": {
     "cell_type": "markdown",
     "checksum": "43f003bd774efcbc984907542516476b",
     "grade": true,
     "grade_id": "cell-1278a7daf8e2d3f8",
     "locked": false,
     "points": 1,
     "schema_version": 3,
     "solution": true,
     "task": false
    }
   },
   "source": [
    "The training error is >0% because we use a 3-Nearest-Neighbor classifier. Therefore unlike when k=1 the predicted class of the nearest neighbors of x is not simply the class of x itself but the resulting class of a voting among the nearest 3 neighbors. If the majority of those neighbors is from a different class than x itself, they will outvote the class of x. That is why the training error is >0% in this experiment."
   ]
  },
  {
   "cell_type": "markdown",
   "id": "a4f1f1ec",
   "metadata": {
    "deletable": false,
    "editable": false,
    "nbgrader": {
     "cell_type": "markdown",
     "checksum": "925b6a2c687eb207d3dd1d6d0052fcc7",
     "grade": false,
     "grade_id": "cell-f0fe31cccb12f227",
     "locked": true,
     "schema_version": 3,
     "solution": false,
     "task": false
    }
   },
   "source": [
    "Finally, let's plot the error for different k's."
   ]
  },
  {
   "cell_type": "code",
   "execution_count": 141,
   "id": "b2fa0cd8",
   "metadata": {
    "deletable": false,
    "editable": false,
    "nbgrader": {
     "cell_type": "code",
     "checksum": "dc506722355a5e948f703de0bcbd9140",
     "grade": false,
     "grade_id": "cell-74b469c38f116e63",
     "locked": true,
     "schema_version": 3,
     "solution": false,
     "task": false
    }
   },
   "outputs": [
    {
     "data": {
      "image/png": "[encoded data removed]",
      "text/plain": [
       "<Figure size 1000x600 with 1 Axes>"
      ]
     },
     "metadata": {},
     "output_type": "display_data"
    }
   ],
   "source": [
    "ks = range(1,9,2)\n",
    "clfs=[KNeighborsClassifier(n_neighbors=k).fit(train_data, train_labels) \\\n",
    "      for k in ks]\n",
    "train_scores = [trainError(clf, train_data, train_labels) for clf in clfs]\n",
    "test_scores = [testError(clf, test_data, test_labels) for clf in clfs]\n",
    "\n",
    "fig, ax = plt.subplots(figsize=(10,6))\n",
    "ax.plot(ks, train_scores, label=\"Train Error\")\n",
    "ax.plot(ks, test_scores, label=\"Test Error\")\n",
    "ax.set_xlabel('k')\n",
    "ax.set_ylabel('error')\n",
    "plt.title(\"k-NN Error rates\")\n",
    "plt.legend()\n",
    "plt.show()"
   ]
  },
  {
   "cell_type": "markdown",
   "id": "d808e879",
   "metadata": {
    "deletable": false,
    "editable": false,
    "nbgrader": {
     "cell_type": "markdown",
     "checksum": "0455216395d3242a26095bd2a94c071d",
     "grade": false,
     "grade_id": "cell-06c376522c9b0ee5",
     "locked": true,
     "schema_version": 3,
     "solution": false,
     "task": false
    }
   },
   "source": [
    "The error for the 1-NN on the train data is $0$, which is also minimum. The overall minimum on the test data is however around $k=5$."
   ]
  },
  {
   "cell_type": "markdown",
   "id": "57a86d10",
   "metadata": {
    "deletable": false,
    "editable": false,
    "nbgrader": {
     "cell_type": "markdown",
     "checksum": "930181bcfa3265f9e0e48780b420fb6c",
     "grade": false,
     "grade_id": "cell-0396858dffc4bd22",
     "locked": true,
     "schema_version": 3,
     "solution": false,
     "task": false
    }
   },
   "source": [
    "## Hyper-Parameter Selection using Cross-Validation\n",
    "\n",
    "A machine learning model has two types of parameters. \n",
    "1. The first type of parameters are the **model parameters** that are learned through a machine learning model\n",
    "2. The second type of parameters are the **hyper-parameter** that we pass to the machine learning model prior to training. \n",
    "\n",
    "The `KNeighborsClassifier` has no internal model parameters (lazy learner) but provides two hyper-parameters:\n",
    "1. `n_neighbors`: Number $k$ of neighbors to use by default for kneighbors queries.\n",
    "2. `p`: The $p$ of the $L_p$ norm"
   ]
  },
  {
   "cell_type": "markdown",
   "id": "9d39c5b1",
   "metadata": {
    "deletable": false,
    "editable": false,
    "nbgrader": {
     "cell_type": "markdown",
     "checksum": "c5b3d4827761823d77e1d90a531263cd",
     "grade": false,
     "grade_id": "cell-0c6b67bc1f014f9c",
     "locked": true,
     "schema_version": 3,
     "solution": false,
     "task": false
    }
   },
   "source": [
    "### Cross validation for hyper-parameter selection\n",
    "\n",
    "\n",
    "How to decide which hyper-parameter is the best? \n",
    "\n",
    "<div class=\"alert alert-block alert-danger\" style=\"margin-top: 20px\">\n",
    "    The most important lesson of machine learning: never ever optimize (hyper-parameters of) your model on the test data.\n",
    "</div>\n",
    "\n",
    "This is a bad example of overfitting and a very common mistake in scientific publications. To make sure, our classifier generalizes to unseen data, we will use 3-fold-cross-validation on the train data and pick the model with highest average performance.\n",
    "\n",
    "**Cross-validaton can be very slow, owing to the potentially large number of splits to test. Thus, make sure to use a subset of the train data.**"
   ]
  },
  {
   "cell_type": "code",
   "execution_count": 129,
   "id": "f4c7773f",
   "metadata": {
    "deletable": false,
    "editable": false,
    "nbgrader": {
     "cell_type": "code",
     "checksum": "6e5fc9f03755cf4196593006a2cf9727",
     "grade": false,
     "grade_id": "cell-ee3e410214e68b0b",
     "locked": true,
     "schema_version": 3,
     "solution": false,
     "task": false
    }
   },
   "outputs": [],
   "source": [
    "X_data = train_data[:1000]\n",
    "y_labels = train_labels[:1000]\n",
    "\n",
    "# Use X_data and y_labels from now on!"
   ]
  },
  {
   "cell_type": "markdown",
   "id": "43d47195",
   "metadata": {
    "deletable": false,
    "editable": false,
    "nbgrader": {
     "cell_type": "markdown",
     "checksum": "034d765998d7d47c72cf2c9f560f60b9",
     "grade": false,
     "grade_id": "cell-2d76610c1795c8b9",
     "locked": true,
     "schema_version": 3,
     "solution": false,
     "task": false
    }
   },
   "source": [
    "To implement the cross-validation we need to import ```cross_val_score``` from the ```sklearn.model_selection``` library."
   ]
  },
  {
   "cell_type": "code",
   "execution_count": 130,
   "id": "01dfb1c6",
   "metadata": {
    "deletable": false,
    "editable": false,
    "nbgrader": {
     "cell_type": "code",
     "checksum": "6b45695454b0bb3d33b613345f007421",
     "grade": false,
     "grade_id": "cell-5562247da5d24427",
     "locked": true,
     "schema_version": 3,
     "solution": false,
     "task": false
    }
   },
   "outputs": [
    {
     "data": {
      "text/plain": [
       "0.8530086973200746"
      ]
     },
     "execution_count": 130,
     "metadata": {},
     "output_type": "execute_result"
    }
   ],
   "source": [
    "from sklearn.model_selection import cross_val_score\n",
    "\n",
    "knn = KNeighborsClassifier(n_neighbors=3)\n",
    "cross_val_score(knn, X_data, y_labels, cv=3).mean()"
   ]
  },
  {
   "cell_type": "markdown",
   "id": "477ccccc",
   "metadata": {
    "deletable": false,
    "editable": false,
    "nbgrader": {
     "cell_type": "markdown",
     "checksum": "cc76dc89c597e699105efdb106c11924",
     "grade": false,
     "grade_id": "cell-07f44b275927d593",
     "locked": true,
     "schema_version": 3,
     "solution": false,
     "task": false
    }
   },
   "source": [
    "### Task 9: Optimize hyper-parameter  `k` using cross-validation\n",
    "\n",
    "<div class=\"alert alert-success alertsuccess\" style=\"margin-top: 20px\">\n",
    "\n",
    "Complete the \n",
    "\n",
    "```python \n",
    "def score_all_k()\n",
    "``` \n",
    "\n",
    "method to compute and return the 3-fold-cross-validation accuracy for each value in `n_neighbors_range`.\n",
    "</div>\n",
    "\n",
    "*Note: you can access global variables like `X_data` or `X_labels` within functions in python*"
   ]
  },
  {
   "cell_type": "code",
   "execution_count": 131,
   "id": "08160ccd",
   "metadata": {
    "deletable": false,
    "nbgrader": {
     "cell_type": "code",
     "checksum": "a4e7d4fa8da16bceab3b0bda242e3a2c",
     "grade": false,
     "grade_id": "cell-5190711bd086e066",
     "locked": false,
     "schema_version": 3,
     "solution": true,
     "task": false
    }
   },
   "outputs": [],
   "source": [
    "# use X_data and X_labels to fit the classifier\n",
    "X_data = train_data[:1000]\n",
    "y_labels = train_labels[:1000]\n",
    "\n",
    "n_neighbors_range = np.arange(1,10)\n",
    "\n",
    "def score_all_k():\n",
    "    # The list of scores, one for each value in n_neighbors_range\n",
    "    scores = []\n",
    "\n",
    "    # YOUR CODE HERE\n",
    "    for k in n_neighbors_range:\n",
    "        knn = KNeighborsClassifier(n_neighbors=k)\n",
    "        knn_scores = cross_val_score(knn, X_data, y_labels, cv=3)  # 3-fold cross-validation\n",
    "        average_score = np.mean(knn_scores)\n",
    "        scores.append(average_score)\n",
    "    \n",
    "    # return scores\n",
    "    return scores"
   ]
  },
  {
   "cell_type": "markdown",
   "id": "85a887a2",
   "metadata": {
    "deletable": false,
    "editable": false,
    "nbgrader": {
     "cell_type": "markdown",
     "checksum": "b8f82091630c5b4c105e245d1b072f70",
     "grade": false,
     "grade_id": "cell-dc9a34967243f347",
     "locked": true,
     "schema_version": 3,
     "solution": false,
     "task": false
    }
   },
   "source": [
    "Run the following tests to check if your implementation is correct"
   ]
  },
  {
   "cell_type": "code",
   "execution_count": 132,
   "id": "f522b1c9",
   "metadata": {
    "deletable": false,
    "editable": false,
    "nbgrader": {
     "cell_type": "code",
     "checksum": "2213828e0459e6f0e8db4e391dbf8a17",
     "grade": true,
     "grade_id": "cell-1761bd9df56f00bd",
     "locked": true,
     "points": 1,
     "schema_version": 3,
     "solution": false,
     "task": false
    }
   },
   "outputs": [
    {
     "name": "stdout",
     "output_type": "stream",
     "text": [
      "Scores:  [(1, 0.8590027152901404), (2, 0.831016645387903), (3, 0.8530086973200746), (4, 0.8540216863570157), (5, 0.8530176883470296), (6, 0.8460076843310377), (7, 0.8499997002991014), (8, 0.8480216743689798), (9, 0.8390066713420007)]\n",
      "Minimum at k:  2\n",
      "k=1 Score: 0.859 should be approx. 0.859\n",
      "k=9 Score: 0.839 should be approx. 0.839\n"
     ]
    }
   ],
   "source": [
    "scores = score_all_k()\n",
    "\n",
    "print (\"Scores: \", list(zip(n_neighbors_range, np.array(scores))))\n",
    "print (\"Minimum at k: \", n_neighbors_range[np.argmin(np.array(scores))])\n",
    "\n",
    "# check that your function returned 9 scores\n",
    "assert len(scores) == n_neighbors_range.shape[0]\n",
    "\n",
    "# check that the first score equals approx. 0.859\n",
    "print('k=1 Score: {:.3f} should be approx. 0.859'.format(scores[0]))\n",
    "assert abs(np.round(scores[0], 2) - 0.859) <= 0.01\n",
    "\n",
    "# check that the last score equals approx. 0.839\n",
    "print('k=9 Score: {:.3f} should be approx. 0.839'.format(scores[-1]))\n",
    "assert abs(np.round(scores[-1], 2) - 0.839) <= 0.01\n"
   ]
  },
  {
   "cell_type": "markdown",
   "id": "cafad350",
   "metadata": {
    "deletable": false,
    "editable": false,
    "nbgrader": {
     "cell_type": "markdown",
     "checksum": "c6470785c6bd225c07679099ae9d29e2",
     "grade": false,
     "grade_id": "cell-398dbd84951bb5aa",
     "locked": true,
     "schema_version": 3,
     "solution": false,
     "task": false
    }
   },
   "source": [
    "Let's plot the result:"
   ]
  },
  {
   "cell_type": "code",
   "execution_count": 133,
   "id": "94d510c7",
   "metadata": {
    "deletable": false,
    "editable": false,
    "nbgrader": {
     "cell_type": "code",
     "checksum": "23286c59655c61f1ef110dfcd830a745",
     "grade": false,
     "grade_id": "cell-1649006831c7b141",
     "locked": true,
     "schema_version": 3,
     "solution": false,
     "task": false
    }
   },
   "outputs": [
    {
     "data": {
      "image/png": "[encoded data removed]",
      "text/plain": [
       "<Figure size 600x600 with 1 Axes>"
      ]
     },
     "metadata": {},
     "output_type": "display_data"
    }
   ],
   "source": [
    "plt.figure(figsize=(6,6))\n",
    "plt.xlabel('k')\n",
    "plt.ylabel('accuracy')\n",
    "_=plt.scatter(n_neighbors_range, score_all_k(), alpha=0.8, color=\"red\", s = 100)"
   ]
  },
  {
   "cell_type": "markdown",
   "id": "7a5b44aa",
   "metadata": {
    "deletable": false,
    "editable": false,
    "nbgrader": {
     "cell_type": "markdown",
     "checksum": "2e8a0656feefaf780134fef0945e0973",
     "grade": false,
     "grade_id": "cell-1b7261727e04fac0",
     "locked": true,
     "schema_version": 3,
     "solution": false,
     "task": false
    }
   },
   "source": [
    "## Grid Search for Hyper-Parameter Selection\n",
    "\n",
    "`scikit-learn` provides a utility method called `GridSearchCV` to test a range of hyper-parameters for the optimal values."
   ]
  },
  {
   "cell_type": "markdown",
   "id": "d0f4f806",
   "metadata": {
    "deletable": false,
    "editable": false,
    "nbgrader": {
     "cell_type": "markdown",
     "checksum": "052268ac5ac60173dd3ba51c244b0fa5",
     "grade": false,
     "grade_id": "cell-a99fa88658bdf420",
     "locked": true,
     "schema_version": 3,
     "solution": false,
     "task": false
    }
   },
   "source": [
    "Let's create a dictionary of parameters and their corresponding values for training out model:"
   ]
  },
  {
   "cell_type": "code",
   "execution_count": 134,
   "id": "fba2205a",
   "metadata": {
    "deletable": false,
    "editable": false,
    "nbgrader": {
     "cell_type": "code",
     "checksum": "2eca8a6cbbbe385da7124905df2bc0b4",
     "grade": false,
     "grade_id": "cell-ef585204cec446ed",
     "locked": true,
     "schema_version": 3,
     "solution": false,
     "task": false
    }
   },
   "outputs": [],
   "source": [
    "parameters = {\n",
    "    'n_neighbors':[1,2,3,4,5,6,7,8,9]\n",
    "  }"
   ]
  },
  {
   "cell_type": "markdown",
   "id": "bd04e974",
   "metadata": {
    "deletable": false,
    "editable": false,
    "nbgrader": {
     "cell_type": "markdown",
     "checksum": "2f2d05651d40e58cefcd5f37acb229b5",
     "grade": false,
     "grade_id": "cell-4f6944793bd86476",
     "locked": true,
     "schema_version": 3,
     "solution": false,
     "task": false
    }
   },
   "source": [
    "The Grid Search algorithm can be very slow, owing to the potentially huge number of combinations to test. Furthermore, cross validation further increases the execution time and complexity. **Thus, make sure to use a subset of the train data, again.**"
   ]
  },
  {
   "cell_type": "code",
   "execution_count": 135,
   "id": "e413b81e",
   "metadata": {
    "deletable": false,
    "editable": false,
    "nbgrader": {
     "cell_type": "code",
     "checksum": "59da6e2a446d6ab0c9b7e79e8b5ee8e1",
     "grade": false,
     "grade_id": "cell-3218e71d000aff61",
     "locked": true,
     "schema_version": 3,
     "solution": false,
     "task": false
    }
   },
   "outputs": [],
   "source": [
    "X_data = train_data[:1000]\n",
    "y_labels = train_labels[:1000]"
   ]
  },
  {
   "cell_type": "markdown",
   "id": "de390a98",
   "metadata": {
    "deletable": false,
    "editable": false,
    "nbgrader": {
     "cell_type": "markdown",
     "checksum": "c7ba25184da31b3b65064b1d8d0cfa0b",
     "grade": false,
     "grade_id": "cell-bdea00f8a6833e8a",
     "locked": true,
     "schema_version": 3,
     "solution": false,
     "task": false
    }
   },
   "source": [
    "To implement the Grid Search algorithm we need to import ```GridSearchCV``` class from the ```sklearn.model_selection``` library."
   ]
  },
  {
   "cell_type": "code",
   "execution_count": 136,
   "id": "b6b18d87",
   "metadata": {
    "deletable": false,
    "editable": false,
    "nbgrader": {
     "cell_type": "code",
     "checksum": "b8caf24749ecc33b46fe9456dcc62573",
     "grade": false,
     "grade_id": "cell-4aac6e647278df60",
     "locked": true,
     "schema_version": 3,
     "solution": false,
     "task": false
    }
   },
   "outputs": [
    {
     "data": {
      "text/html": [
       "<style>#sk-container-id-2 {color: black;background-color: white;}#sk-container-id-2 pre{padding: 0;}#sk-container-id-2 div.sk-toggleable {background-color: white;}#sk-container-id-2 label.sk-toggleable__label {cursor: pointer;display: block;width: 100%;margin-bottom: 0;padding: 0.3em;box-sizing: border-box;text-align: center;}#sk-container-id-2 label.sk-toggleable__label-arrow:before {content: \"▸\";float: left;margin-right: 0.25em;color: #696969;}#sk-container-id-2 label.sk-toggleable__label-arrow:hover:before {color: black;}#sk-container-id-2 div.sk-estimator:hover label.sk-toggleable__label-arrow:before {color: black;}#sk-container-id-2 div.sk-toggleable__content {max-height: 0;max-width: 0;overflow: hidden;text-align: left;background-color: #f0f8ff;}#sk-container-id-2 div.sk-toggleable__content pre {margin: 0.2em;color: black;border-radius: 0.25em;background-color: #f0f8ff;}#sk-container-id-2 input.sk-toggleable__control:checked~div.sk-toggleable__content {max-height: 200px;max-width: 100%;overflow: auto;}#sk-container-id-2 input.sk-toggleable__control:checked~label.sk-toggleable__label-arrow:before {content: \"▾\";}#sk-container-id-2 div.sk-estimator input.sk-toggleable__control:checked~label.sk-toggleable__label {background-color: #d4ebff;}#sk-container-id-2 div.sk-label input.sk-toggleable__control:checked~label.sk-toggleable__label {background-color: #d4ebff;}#sk-container-id-2 input.sk-hidden--visually {border: 0;clip: rect(1px 1px 1px 1px);clip: rect(1px, 1px, 1px, 1px);height: 1px;margin: -1px;overflow: hidden;padding: 0;position: absolute;width: 1px;}#sk-container-id-2 div.sk-estimator {font-family: monospace;background-color: #f0f8ff;border: 1px dotted black;border-radius: 0.25em;box-sizing: border-box;margin-bottom: 0.5em;}#sk-container-id-2 div.sk-estimator:hover {background-color: #d4ebff;}#sk-container-id-2 div.sk-parallel-item::after {content: \"\";width: 100%;border-bottom: 1px solid gray;flex-grow: 1;}#sk-container-id-2 div.sk-label:hover label.sk-toggleable__label {background-color: #d4ebff;}#sk-container-id-2 div.sk-serial::before {content: \"\";position: absolute;border-left: 1px solid gray;box-sizing: border-box;top: 0;bottom: 0;left: 50%;z-index: 0;}#sk-container-id-2 div.sk-serial {display: flex;flex-direction: column;align-items: center;background-color: white;padding-right: 0.2em;padding-left: 0.2em;position: relative;}#sk-container-id-2 div.sk-item {position: relative;z-index: 1;}#sk-container-id-2 div.sk-parallel {display: flex;align-items: stretch;justify-content: center;background-color: white;position: relative;}#sk-container-id-2 div.sk-item::before, #sk-container-id-2 div.sk-parallel-item::before {content: \"\";position: absolute;border-left: 1px solid gray;box-sizing: border-box;top: 0;bottom: 0;left: 50%;z-index: -1;}#sk-container-id-2 div.sk-parallel-item {display: flex;flex-direction: column;z-index: 1;position: relative;background-color: white;}#sk-container-id-2 div.sk-parallel-item:first-child::after {align-self: flex-end;width: 50%;}#sk-container-id-2 div.sk-parallel-item:last-child::after {align-self: flex-start;width: 50%;}#sk-container-id-2 div.sk-parallel-item:only-child::after {width: 0;}#sk-container-id-2 div.sk-dashed-wrapped {border: 1px dashed gray;margin: 0 0.4em 0.5em 0.4em;box-sizing: border-box;padding-bottom: 0.4em;background-color: white;}#sk-container-id-2 div.sk-label label {font-family: monospace;font-weight: bold;display: inline-block;line-height: 1.2em;}#sk-container-id-2 div.sk-label-container {text-align: center;}#sk-container-id-2 div.sk-container {/* jupyter's `normalize.less` sets `[hidden] { display: none; }` but bootstrap.min.css set `[hidden] { display: none !important; }` so we also need the `!important` here to be able to override the default hidden behavior on the sphinx rendered scikit-learn.org. See: https://github.com/scikit-learn/scikit-learn/issues/21755 */display: inline-block !important;position: relative;}#sk-container-id-2 div.sk-text-repr-fallback {display: none;}</style><div id=\"sk-container-id-2\" class=\"sk-top-container\"><div class=\"sk-text-repr-fallback\"><pre>GridSearchCV(cv=3, estimator=KNeighborsClassifier(), n_jobs=-1,\n",
       "             param_grid={&#x27;n_neighbors&#x27;: [1, 2, 3, 4, 5, 6, 7, 8, 9]})</pre><b>In a Jupyter environment, please rerun this cell to show the HTML representation or trust the notebook. <br />On GitHub, the HTML representation is unable to render, please try loading this page with nbviewer.org.</b></div><div class=\"sk-container\" hidden><div class=\"sk-item sk-dashed-wrapped\"><div class=\"sk-label-container\"><div class=\"sk-label sk-toggleable\"><input class=\"sk-toggleable__control sk-hidden--visually\" id=\"sk-estimator-id-2\" type=\"checkbox\" ><label for=\"sk-estimator-id-2\" class=\"sk-toggleable__label sk-toggleable__label-arrow\">GridSearchCV</label><div class=\"sk-toggleable__content\"><pre>GridSearchCV(cv=3, estimator=KNeighborsClassifier(), n_jobs=-1,\n",
       "             param_grid={&#x27;n_neighbors&#x27;: [1, 2, 3, 4, 5, 6, 7, 8, 9]})</pre></div></div></div><div class=\"sk-parallel\"><div class=\"sk-parallel-item\"><div class=\"sk-item\"><div class=\"sk-label-container\"><div class=\"sk-label sk-toggleable\"><input class=\"sk-toggleable__control sk-hidden--visually\" id=\"sk-estimator-id-3\" type=\"checkbox\" ><label for=\"sk-estimator-id-3\" class=\"sk-toggleable__label sk-toggleable__label-arrow\">estimator: KNeighborsClassifier</label><div class=\"sk-toggleable__content\"><pre>KNeighborsClassifier()</pre></div></div></div><div class=\"sk-serial\"><div class=\"sk-item\"><div class=\"sk-estimator sk-toggleable\"><input class=\"sk-toggleable__control sk-hidden--visually\" id=\"sk-estimator-id-4\" type=\"checkbox\" ><label for=\"sk-estimator-id-4\" class=\"sk-toggleable__label sk-toggleable__label-arrow\">KNeighborsClassifier</label><div class=\"sk-toggleable__content\"><pre>KNeighborsClassifier()</pre></div></div></div></div></div></div></div></div></div></div>"
      ],
      "text/plain": [
       "GridSearchCV(cv=3, estimator=KNeighborsClassifier(), n_jobs=-1,\n",
       "             param_grid={'n_neighbors': [1, 2, 3, 4, 5, 6, 7, 8, 9]})"
      ]
     },
     "execution_count": 136,
     "metadata": {},
     "output_type": "execute_result"
    }
   ],
   "source": [
    "from sklearn.model_selection import GridSearchCV\n",
    "\n",
    "knn = KNeighborsClassifier()\n",
    "grid = GridSearchCV(knn, parameters, cv=3, n_jobs=-1)\n",
    "\n",
    "grid.fit(X_data, y_labels)"
   ]
  },
  {
   "cell_type": "markdown",
   "id": "aaf595d6",
   "metadata": {
    "deletable": false,
    "editable": false,
    "nbgrader": {
     "cell_type": "markdown",
     "checksum": "15315cc72f60fa42891ae76cadc7b05e",
     "grade": false,
     "grade_id": "cell-c1aa398177defee2",
     "locked": true,
     "schema_version": 3,
     "solution": false,
     "task": false
    }
   },
   "source": [
    "Output the best parameters"
   ]
  },
  {
   "cell_type": "code",
   "execution_count": 137,
   "id": "fc372d93",
   "metadata": {
    "deletable": false,
    "editable": false,
    "nbgrader": {
     "cell_type": "code",
     "checksum": "944108fcc571661de7a0f033242e6dba",
     "grade": false,
     "grade_id": "cell-4e689e9d8245ae28",
     "locked": true,
     "schema_version": 3,
     "solution": false,
     "task": false
    }
   },
   "outputs": [
    {
     "name": "stdout",
     "output_type": "stream",
     "text": [
      "Cross-Validation-Accuracy: 0.8590027152901404\n",
      "Best k: {'n_neighbors': 1}\n"
     ]
    }
   ],
   "source": [
    "print(f\"Cross-Validation-Accuracy: {grid.best_score_}\")\n",
    "print(f\"Best k: {grid.best_params_}\")"
   ]
  },
  {
   "cell_type": "markdown",
   "id": "ce73cc7a",
   "metadata": {
    "deletable": false,
    "editable": false,
    "nbgrader": {
     "cell_type": "markdown",
     "checksum": "a35ff04f1b4d3a6962b9552f51ca5504",
     "grade": false,
     "grade_id": "cell-b407738cfe2bb96c",
     "locked": true,
     "schema_version": 3,
     "solution": false,
     "task": false
    }
   },
   "source": [
    "We can also get the test accuracy using the best parameters:"
   ]
  },
  {
   "cell_type": "code",
   "execution_count": 138,
   "id": "c7d48e69",
   "metadata": {
    "deletable": false,
    "editable": false,
    "nbgrader": {
     "cell_type": "code",
     "checksum": "64a0c0ec798c0836ce40a9bdef5b74a4",
     "grade": false,
     "grade_id": "cell-dd099b8e143579bb",
     "locked": true,
     "schema_version": 3,
     "solution": false,
     "task": false
    }
   },
   "outputs": [
    {
     "name": "stdout",
     "output_type": "stream",
     "text": [
      "Test accuracy: 0.9\n"
     ]
    }
   ],
   "source": [
    "print(f\"Test accuracy: {grid.score(test_data, test_labels)}\")"
   ]
  },
  {
   "cell_type": "markdown",
   "id": "6c83c78b",
   "metadata": {
    "deletable": false,
    "editable": false,
    "nbgrader": {
     "cell_type": "markdown",
     "checksum": "79f330bef7c5a5a60a5d3617114c8e17",
     "grade": false,
     "grade_id": "cell-98f5e7ce584fba12",
     "locked": true,
     "schema_version": 3,
     "solution": false,
     "task": false
    }
   },
   "source": [
    "### Task 10: Optimize hyper-parameters $k$ and $p$ using grid-search\n",
    "\n",
    "<div class=\"alert alert-success alertsuccess\" style=\"margin-top: 20px\">\n",
    "\n",
    "Implement the method\n",
    "```python\n",
    "def bestParameters():\n",
    "```\n",
    "\n",
    "that tries all combinations of values of `n_neighbors=[1,2,3,4,5,6,7,8,9]` and `p=[1,2,3]` to find the one combination of `(n_neighbors,p)` that maximize cross-validation accuracy using grid-search. Your method should return a tuple with 4 values `(n_neigbors,p,cross_validation_acc,test_acc)`.\n",
    "\n",
    "</div>\n",
    "\n",
    "*Note: In the following notebooks you should work with the subset of the train data of 1000 examples for performance reasons.*\n",
    "\n",
    "\n"
   ]
  },
  {
   "cell_type": "code",
   "execution_count": 139,
   "id": "287eb359",
   "metadata": {
    "deletable": false,
    "nbgrader": {
     "cell_type": "code",
     "checksum": "c636e58f8f08705e4b24264a1c84ba9b",
     "grade": false,
     "grade_id": "cell-70a2a6b9556f9ff1",
     "locked": false,
     "schema_version": 3,
     "solution": true,
     "task": false
    }
   },
   "outputs": [],
   "source": [
    "# use X_data and X_labels to fit the classifier\n",
    "X_data = train_data[:1000]\n",
    "X_labels = train_labels[:1000]\n",
    "\n",
    "n_neighbors_range = np.arange(1,10)\n",
    "p_range = np.arange(1,4)\n",
    "\n",
    "def bestParameters():\n",
    "    best_n_neighbors = 0    \n",
    "    best_p = 0    \n",
    "    cross_validation_acc = 0\n",
    "    test_acc = 0\n",
    "    \n",
    "    # YOUR CODE HERE\n",
    "    for n_neighbors in n_neighbors_range:\n",
    "        for p in p_range:\n",
    "            knn = KNeighborsClassifier(n_neighbors=n_neighbors, p=p)\n",
    "            knn_scores = cross_val_score(knn, X_data, X_labels, cv=3)  # 3-fold cross-validation\n",
    "            avg_cv_score = np.mean(knn_scores)\n",
    "            \n",
    "            if avg_cv_score > cross_validation_acc:\n",
    "                cross_validation_acc = avg_cv_score\n",
    "                best_n_neighbors = n_neighbors\n",
    "                best_p = p\n",
    "                \n",
    "                # Train the model on the full training data\n",
    "                knn.fit(X_data, X_labels)\n",
    "                \n",
    "                # Evaluate on the test set\n",
    "                test_acc = knn.score(test_data, test_labels)\n",
    "    \n",
    "    return best_n_neighbors, best_p, cross_validation_acc, test_acc"
   ]
  },
  {
   "cell_type": "markdown",
   "id": "cae12add",
   "metadata": {
    "deletable": false,
    "editable": false,
    "nbgrader": {
     "cell_type": "markdown",
     "checksum": "cd2f58b8d761639a450c357e0c03c9d8",
     "grade": false,
     "grade_id": "cell-f1f75c54eaae3e26",
     "locked": true,
     "schema_version": 3,
     "solution": false,
     "task": false
    }
   },
   "source": [
    "Run the following tests to check if your implementation is correct"
   ]
  },
  {
   "cell_type": "code",
   "execution_count": 140,
   "id": "d2157dd3",
   "metadata": {
    "deletable": false,
    "editable": false,
    "nbgrader": {
     "cell_type": "code",
     "checksum": "d8d23e5ffdf4a8e00212c057302f106e",
     "grade": true,
     "grade_id": "cell-a7c9ffee230f07d8",
     "locked": true,
     "points": 1,
     "schema_version": 3,
     "solution": false,
     "task": false
    }
   },
   "outputs": [
    {
     "name": "stdout",
     "output_type": "stream",
     "text": [
      "Cross validation accuracy: 0.866\n",
      "Test accuracy: 0.904\n",
      "Best k is 3 should be 3\n",
      "Best p is 3\n",
      "Cross validation accuracy is 0.866 should be approx. 0.866\n",
      "Test Accuracy is 0.904 should be approx. 0.904\n"
     ]
    }
   ],
   "source": [
    "results = bestParameters()  \n",
    "\n",
    "print(\"Cross validation accuracy: {:.3f}\".format(results[2]))\n",
    "print(\"Test accuracy: {:.3f}\".format(results[3]))\n",
    "\n",
    "## Check that your method returns a tuple\n",
    "assert type(results) == tuple\n",
    "best_n_neighbors, best_p, cross_validation_acc, test_acc = results\n",
    "\n",
    "## Check that the best_n_neighbour is 3\n",
    "print(\"Best k is {:d} should be 3\".format(best_n_neighbors))\n",
    "assert best_n_neighbors == 3\n",
    "\n",
    "print(\"Best p is {:d}\".format(best_p))\n",
    "\n",
    "print(\"Cross validation accuracy is {:.3f} should be approx. 0.866\".format(results[2]))\n",
    "assert abs(cross_validation_acc-0.866) <= 0.01\n",
    "\n",
    "## Check that the test_acc is 0.832\n",
    "print('Test Accuracy is {:.3f} should be approx. 0.904'.format(test_acc))\n",
    "assert abs(test_acc-0.904) <= 0.01\n"
   ]
  },
  {
   "cell_type": "markdown",
   "id": "fa1ba39d",
   "metadata": {
    "deletable": false,
    "editable": false,
    "nbgrader": {
     "cell_type": "markdown",
     "checksum": "12e7e0c8b0453787a9b9ebd9bf148845",
     "grade": false,
     "grade_id": "cell-5576bb870a58311a",
     "locked": true,
     "schema_version": 3,
     "solution": false,
     "task": false
    }
   },
   "source": [
    "# Congratuations\n",
    "At the end of this notebook you should have learned about:\n",
    "- train accuracy and test accuracy\n",
    "- hyper-parameters\n",
    "- hyper-parameter optimization using cross-validation and grid-search\n",
    "- using Scikit-Learn \n",
    "\n",
    "Now, hand in this assignment via Moodle."
   ]
  }
 ],
 "metadata": {
  "anaconda-cloud": {},
  "kernelspec": {
   "display_name": "Python 3 (ipykernel)",
   "language": "python",
   "name": "python3"
  },
  "language_info": {
   "codemirror_mode": {
    "name": "ipython",
    "version": 3
   },
   "file_extension": ".py",
   "mimetype": "text/x-python",
   "name": "python",
   "nbconvert_exporter": "python",
   "pygments_lexer": "ipython3",
   "version": "3.10.9"
  },
  "toc": {
   "colors": {
    "hover_highlight": "#DAA520",
    "navigate_num": "#000000",
    "navigate_text": "#333333",
    "running_highlight": "#FF0000",
    "selected_highlight": "#FFD700",
    "sidebar_border": "#EEEEEE",
    "wrapper_background": "#FFFFFF"
   },
   "moveMenuLeft": true,
   "nav_menu": {
    "height": "153px",
    "width": "252px"
   },
   "navigate_menu": true,
   "number_sections": false,
   "sideBar": true,
   "threshold": 4,
   "toc_cell": false,
   "toc_section_display": "block",
   "toc_window_display": false,
   "widenNotebook": false
  }
 },
 "nbformat": 4,
 "nbformat_minor": 5
}
